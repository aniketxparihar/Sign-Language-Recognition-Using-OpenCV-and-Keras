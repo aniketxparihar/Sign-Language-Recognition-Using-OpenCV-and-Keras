{
  "nbformat": 4,
  "nbformat_minor": 0,
  "metadata": {
    "colab": {
      "name": "Untitled4.ipynb",
      "provenance": [],
      "collapsed_sections": [],
      "toc_visible": true
    },
    "kernelspec": {
      "name": "python3",
      "display_name": "Python 3"
    },
    "language_info": {
      "name": "python"
    }
  },
  "cells": [
    {
      "cell_type": "code",
      "metadata": {
        "id": "TlOjCUwTGsMu"
      },
      "source": [
        "import pandas as pd\n",
        "import numpy as np\n",
        "import random\n",
        "import matplotlib.pyplot as plt"
      ],
      "execution_count": null,
      "outputs": []
    },
    {
      "cell_type": "code",
      "metadata": {
        "id": "pBIOo2oPIBML"
      },
      "source": [
        "train =pd.read_csv('sign_mnist_train.csv')\n",
        "test =pd.read_csv('sign_mnist_test.csv')"
      ],
      "execution_count": null,
      "outputs": []
    },
    {
      "cell_type": "markdown",
      "metadata": {
        "id": "xkw-akY7u_HC"
      },
      "source": [
        "# New section"
      ]
    },
    {
      "cell_type": "code",
      "metadata": {
        "id": "sflhQibRIGHh"
      },
      "source": [
        "train_set = np.array(train, dtype = 'float32')\n",
        "test_set = np.array(test, dtype='float32')"
      ],
      "execution_count": null,
      "outputs": []
    },
    {
      "cell_type": "code",
      "metadata": {
        "id": "UFivERr0IMrB"
      },
      "source": [
        "class_names = ['A', 'B', 'C', 'D', 'E', 'F', 'G', 'H', 'I', 'J', 'K', 'L', 'M', 'N', 'O', 'P', 'Q', 'R', 'S', 'T', 'U', 'V', 'W', 'X', 'Y' ]"
      ],
      "execution_count": null,
      "outputs": []
    },
    {
      "cell_type": "code",
      "metadata": {
        "colab": {
          "base_uri": "https://localhost:8080/",
          "height": 35
        },
        "id": "USfCavpHDjWW",
        "outputId": "0bdbf9c8-4980-466c-9a1b-8450a43b2c98"
      },
      "source": [
        "class_names[2]"
      ],
      "execution_count": null,
      "outputs": [
        {
          "output_type": "execute_result",
          "data": {
            "application/vnd.google.colaboratory.intrinsic+json": {
              "type": "string"
            },
            "text/plain": [
              "'C'"
            ]
          },
          "metadata": {
            "tags": []
          },
          "execution_count": 50
        }
      ]
    },
    {
      "cell_type": "code",
      "metadata": {
        "colab": {
          "base_uri": "https://localhost:8080/",
          "height": 281
        },
        "id": "2OLl4E1MINZm",
        "outputId": "0b50f987-673e-4768-c753-f9ccdb3c2369"
      },
      "source": [
        "i = random.randint(1,27455)\n",
        "plt.imshow(train_set[i,1:].reshape((28,28))) \n",
        "plt.imshow(train_set[i,1:].reshape((28,28))) \n",
        "label_index = train[\"label\"][i]\n",
        "plt.title(f\"{class_names[label_index]}\")\n",
        "plt.axis('off')"
      ],
      "execution_count": null,
      "outputs": [
        {
          "output_type": "execute_result",
          "data": {
            "text/plain": [
              "(-0.5, 27.5, 27.5, -0.5)"
            ]
          },
          "metadata": {
            "tags": []
          },
          "execution_count": 56
        },
        {
          "output_type": "display_data",
          "data": {
            "image/png": "[encoded data removed]",
            "text/plain": [
              "<Figure size 432x288 with 1 Axes>"
            ]
          },
          "metadata": {
            "tags": [],
            "needs_background": "light"
          }
        }
      ]
    },
    {
      "cell_type": "code",
      "metadata": {
        "id": "nUS8KwkxIR_h"
      },
      "source": [
        "X_train = train_set[:, 1:] / 255\n",
        "y_train = train_set[:, 0]\n",
        "\n",
        "X_test = test_set[:, 1:] / 255\n",
        "y_test = test_set[:,0]\n"
      ],
      "execution_count": null,
      "outputs": []
    },
    {
      "cell_type": "code",
      "metadata": {
        "id": "oI23ItV5IWMv"
      },
      "source": [
        "from sklearn.model_selection import train_test_split\n",
        "X_train, X_validate, y_train, y_validate = train_test_split(X_train, y_train, test_size = 0.2, random_state = 12345)"
      ],
      "execution_count": null,
      "outputs": []
    },
    {
      "cell_type": "code",
      "metadata": {
        "id": "HjH2pYShI3bM",
        "colab": {
          "base_uri": "https://localhost:8080/"
        },
        "outputId": "f0e43b5d-144c-4c93-e644-4fc6664a869c"
      },
      "source": [
        "X_train = X_train.reshape(X_train.shape[0], *(28, 28, 1))\n",
        "X_test = X_test.reshape(X_test.shape[0], *(28, 28, 1))\n",
        "print(type(X_test))\n",
        "X_validate = X_validate.reshape(X_validate.shape[0], *(28, 28, 1))"
      ],
      "execution_count": null,
      "outputs": [
        {
          "output_type": "stream",
          "text": [
            "<class 'numpy.ndarray'>\n"
          ],
          "name": "stdout"
        }
      ]
    },
    {
      "cell_type": "code",
      "metadata": {
        "id": "ujbhkms1I8B4"
      },
      "source": [
        "import keras\n",
        "from keras.models import Sequential\n",
        "from keras.layers import Conv2D, MaxPooling2D, Dense, Flatten, Dropout\n",
        "from keras.optimizers import Adam\n",
        "from keras.callbacks import TensorBoard\n",
        "\n",
        "#Defining the Convolutional Neural Network\n",
        "cnn_model = Sequential()\n",
        "\n",
        "cnn_model.add(Conv2D(32, (3, 3), input_shape = (28,28,1), activation='relu'))\n",
        "cnn_model.add(MaxPooling2D(pool_size = (2, 2)))\n",
        "cnn_model.add(Dropout(0.25))\n",
        "\n",
        "cnn_model.add(Conv2D(64, (3, 3), input_shape = (28,28,1), activation='relu'))\n",
        "cnn_model.add(MaxPooling2D(pool_size = (2, 2)))\n",
        "cnn_model.add(Dropout(0.25))\n",
        "\n",
        "cnn_model.add(Conv2D(128, (3, 3), input_shape = (28,28,1), activation='relu'))\n",
        "cnn_model.add(MaxPooling2D(pool_size = (2, 2)))\n",
        "cnn_model.add(Dropout(0.25))\n",
        "\n",
        "cnn_model.add(Flatten())\n",
        "\n",
        "cnn_model.add(Dense(units = 512, activation = 'relu'))\n",
        "cnn_model.add(Dropout(0.25))\n",
        "cnn_model.add(Dense(units = 25, activation = 'softmax'))"
      ],
      "execution_count": null,
      "outputs": []
    },
    {
      "cell_type": "code",
      "metadata": {
        "colab": {
          "base_uri": "https://localhost:8080/"
        },
        "id": "X5IN0XNSI9_M",
        "outputId": "3d31eb7d-d87c-4fd7-fe34-4e0bbfd09a2f"
      },
      "source": [
        "cnn_model.summary()"
      ],
      "execution_count": null,
      "outputs": [
        {
          "output_type": "stream",
          "text": [
            "Model: \"sequential\"\n",
            "_________________________________________________________________\n",
            "Layer (type)                 Output Shape              Param #   \n",
            "=================================================================\n",
            "conv2d (Conv2D)              (None, 26, 26, 32)        320       \n",
            "_________________________________________________________________\n",
            "max_pooling2d (MaxPooling2D) (None, 13, 13, 32)        0         \n",
            "_________________________________________________________________\n",
            "dropout (Dropout)            (None, 13, 13, 32)        0         \n",
            "_________________________________________________________________\n",
            "conv2d_1 (Conv2D)            (None, 11, 11, 64)        18496     \n",
            "_________________________________________________________________\n",
            "max_pooling2d_1 (MaxPooling2 (None, 5, 5, 64)          0         \n",
            "_________________________________________________________________\n",
            "dropout_1 (Dropout)          (None, 5, 5, 64)          0         \n",
            "_________________________________________________________________\n",
            "conv2d_2 (Conv2D)            (None, 3, 3, 128)         73856     \n",
            "_________________________________________________________________\n",
            "max_pooling2d_2 (MaxPooling2 (None, 1, 1, 128)         0         \n",
            "_________________________________________________________________\n",
            "dropout_2 (Dropout)          (None, 1, 1, 128)         0         \n",
            "_________________________________________________________________\n",
            "flatten (Flatten)            (None, 128)               0         \n",
            "_________________________________________________________________\n",
            "dense (Dense)                (None, 512)               66048     \n",
            "_________________________________________________________________\n",
            "dropout_3 (Dropout)          (None, 512)               0         \n",
            "_________________________________________________________________\n",
            "dense_1 (Dense)              (None, 25)                12825     \n",
            "=================================================================\n",
            "Total params: 171,545\n",
            "Trainable params: 171,545\n",
            "Non-trainable params: 0\n",
            "_________________________________________________________________\n"
          ],
          "name": "stdout"
        }
      ]
    },
    {
      "cell_type": "code",
      "metadata": {
        "colab": {
          "base_uri": "https://localhost:8080/"
        },
        "id": "b2yu9QdTJB7E",
        "outputId": "b3a98067-6758-4fb3-b7f7-6f2fe3f28837"
      },
      "source": [
        "cnn_model.compile(loss ='sparse_categorical_crossentropy', optimizer='adam' ,metrics =['accuracy'])\n",
        "\n",
        "#Training the CNN model\n",
        "history = cnn_model.fit(X_train, y_train, batch_size = 512, epochs = 50, verbose = 1, validation_data = (X_validate, y_validate))"
      ],
      "execution_count": null,
      "outputs": [
        {
          "output_type": "stream",
          "text": [
            "Epoch 1/50\n",
            "43/43 [==============================] - 22s 484ms/step - loss: 3.1962 - accuracy: 0.0449 - val_loss: 3.0943 - val_accuracy: 0.1198\n",
            "Epoch 2/50\n",
            "43/43 [==============================] - 20s 475ms/step - loss: 2.9185 - accuracy: 0.1124 - val_loss: 2.3335 - val_accuracy: 0.2845\n",
            "Epoch 3/50\n",
            "43/43 [==============================] - 21s 482ms/step - loss: 2.2215 - accuracy: 0.2776 - val_loss: 1.5068 - val_accuracy: 0.5414\n",
            "Epoch 4/50\n",
            "43/43 [==============================] - 20s 476ms/step - loss: 1.5391 - accuracy: 0.4821 - val_loss: 0.9863 - val_accuracy: 0.6846\n",
            "Epoch 5/50\n",
            "43/43 [==============================] - 20s 476ms/step - loss: 1.1709 - accuracy: 0.5962 - val_loss: 0.7389 - val_accuracy: 0.7835\n",
            "Epoch 6/50\n",
            "43/43 [==============================] - 20s 477ms/step - loss: 0.9343 - accuracy: 0.6739 - val_loss: 0.5765 - val_accuracy: 0.8179\n",
            "Epoch 7/50\n",
            "43/43 [==============================] - 20s 475ms/step - loss: 0.7571 - accuracy: 0.7382 - val_loss: 0.4122 - val_accuracy: 0.8856\n",
            "Epoch 8/50\n",
            "43/43 [==============================] - 20s 475ms/step - loss: 0.6271 - accuracy: 0.7853 - val_loss: 0.3086 - val_accuracy: 0.9129\n",
            "Epoch 9/50\n",
            "43/43 [==============================] - 20s 476ms/step - loss: 0.5338 - accuracy: 0.8138 - val_loss: 0.2416 - val_accuracy: 0.9364\n",
            "Epoch 10/50\n",
            "43/43 [==============================] - 20s 475ms/step - loss: 0.4590 - accuracy: 0.8417 - val_loss: 0.1809 - val_accuracy: 0.9594\n",
            "Epoch 11/50\n",
            "43/43 [==============================] - 20s 472ms/step - loss: 0.3889 - accuracy: 0.8627 - val_loss: 0.1384 - val_accuracy: 0.9732\n",
            "Epoch 12/50\n",
            "43/43 [==============================] - 20s 473ms/step - loss: 0.3387 - accuracy: 0.8835 - val_loss: 0.1105 - val_accuracy: 0.9803\n",
            "Epoch 13/50\n",
            "43/43 [==============================] - 20s 473ms/step - loss: 0.2948 - accuracy: 0.8983 - val_loss: 0.0777 - val_accuracy: 0.9856\n",
            "Epoch 14/50\n",
            "43/43 [==============================] - 20s 471ms/step - loss: 0.2562 - accuracy: 0.9155 - val_loss: 0.0650 - val_accuracy: 0.9942\n",
            "Epoch 15/50\n",
            "43/43 [==============================] - 20s 472ms/step - loss: 0.2281 - accuracy: 0.9232 - val_loss: 0.0515 - val_accuracy: 0.9938\n",
            "Epoch 16/50\n",
            "43/43 [==============================] - 20s 472ms/step - loss: 0.2056 - accuracy: 0.9289 - val_loss: 0.0407 - val_accuracy: 0.9969\n",
            "Epoch 17/50\n",
            "43/43 [==============================] - 20s 476ms/step - loss: 0.1762 - accuracy: 0.9436 - val_loss: 0.0308 - val_accuracy: 0.9984\n",
            "Epoch 18/50\n",
            "43/43 [==============================] - 21s 479ms/step - loss: 0.1711 - accuracy: 0.9437 - val_loss: 0.0271 - val_accuracy: 0.9982\n",
            "Epoch 19/50\n",
            "43/43 [==============================] - 20s 477ms/step - loss: 0.1493 - accuracy: 0.9522 - val_loss: 0.0213 - val_accuracy: 0.9995\n",
            "Epoch 20/50\n",
            "43/43 [==============================] - 20s 472ms/step - loss: 0.1337 - accuracy: 0.9551 - val_loss: 0.0176 - val_accuracy: 0.9993\n",
            "Epoch 21/50\n",
            "43/43 [==============================] - 20s 473ms/step - loss: 0.1210 - accuracy: 0.9621 - val_loss: 0.0121 - val_accuracy: 1.0000\n",
            "Epoch 22/50\n",
            "43/43 [==============================] - 20s 474ms/step - loss: 0.1152 - accuracy: 0.9612 - val_loss: 0.0104 - val_accuracy: 1.0000\n",
            "Epoch 23/50\n",
            "43/43 [==============================] - 20s 473ms/step - loss: 0.1056 - accuracy: 0.9652 - val_loss: 0.0095 - val_accuracy: 1.0000\n",
            "Epoch 24/50\n",
            "43/43 [==============================] - 21s 477ms/step - loss: 0.0952 - accuracy: 0.9704 - val_loss: 0.0072 - val_accuracy: 1.0000\n",
            "Epoch 25/50\n",
            "43/43 [==============================] - 21s 487ms/step - loss: 0.0897 - accuracy: 0.9711 - val_loss: 0.0060 - val_accuracy: 1.0000\n",
            "Epoch 26/50\n",
            "43/43 [==============================] - 21s 479ms/step - loss: 0.0832 - accuracy: 0.9727 - val_loss: 0.0048 - val_accuracy: 1.0000\n",
            "Epoch 27/50\n",
            "43/43 [==============================] - 21s 479ms/step - loss: 0.0795 - accuracy: 0.9730 - val_loss: 0.0052 - val_accuracy: 1.0000\n",
            "Epoch 28/50\n",
            "43/43 [==============================] - 20s 476ms/step - loss: 0.0710 - accuracy: 0.9782 - val_loss: 0.0037 - val_accuracy: 1.0000\n",
            "Epoch 29/50\n",
            "43/43 [==============================] - 20s 474ms/step - loss: 0.0698 - accuracy: 0.9771 - val_loss: 0.0045 - val_accuracy: 0.9998\n",
            "Epoch 30/50\n",
            "43/43 [==============================] - 20s 473ms/step - loss: 0.0701 - accuracy: 0.9778 - val_loss: 0.0035 - val_accuracy: 1.0000\n",
            "Epoch 31/50\n",
            "43/43 [==============================] - 20s 474ms/step - loss: 0.0640 - accuracy: 0.9806 - val_loss: 0.0026 - val_accuracy: 1.0000\n",
            "Epoch 32/50\n",
            "43/43 [==============================] - 20s 473ms/step - loss: 0.0559 - accuracy: 0.9826 - val_loss: 0.0029 - val_accuracy: 1.0000\n",
            "Epoch 33/50\n",
            "43/43 [==============================] - 20s 473ms/step - loss: 0.0588 - accuracy: 0.9808 - val_loss: 0.0025 - val_accuracy: 1.0000\n",
            "Epoch 34/50\n",
            "43/43 [==============================] - 21s 479ms/step - loss: 0.0480 - accuracy: 0.9857 - val_loss: 0.0026 - val_accuracy: 1.0000\n",
            "Epoch 35/50\n",
            "43/43 [==============================] - 20s 476ms/step - loss: 0.0527 - accuracy: 0.9843 - val_loss: 0.0013 - val_accuracy: 1.0000\n",
            "Epoch 36/50\n",
            "43/43 [==============================] - 20s 477ms/step - loss: 0.0474 - accuracy: 0.9850 - val_loss: 0.0013 - val_accuracy: 1.0000\n",
            "Epoch 37/50\n",
            "43/43 [==============================] - 21s 479ms/step - loss: 0.0440 - accuracy: 0.9866 - val_loss: 0.0010 - val_accuracy: 1.0000\n",
            "Epoch 38/50\n",
            "43/43 [==============================] - 21s 479ms/step - loss: 0.0434 - accuracy: 0.9869 - val_loss: 0.0010 - val_accuracy: 1.0000\n",
            "Epoch 39/50\n",
            "43/43 [==============================] - 21s 481ms/step - loss: 0.0423 - accuracy: 0.9869 - val_loss: 0.0010 - val_accuracy: 1.0000\n",
            "Epoch 40/50\n",
            "43/43 [==============================] - 20s 477ms/step - loss: 0.0463 - accuracy: 0.9841 - val_loss: 0.0010 - val_accuracy: 1.0000\n",
            "Epoch 41/50\n",
            "43/43 [==============================] - 20s 475ms/step - loss: 0.0420 - accuracy: 0.9866 - val_loss: 9.3330e-04 - val_accuracy: 1.0000\n",
            "Epoch 42/50\n",
            "43/43 [==============================] - 20s 474ms/step - loss: 0.0379 - accuracy: 0.9880 - val_loss: 8.3385e-04 - val_accuracy: 1.0000\n",
            "Epoch 43/50\n",
            "43/43 [==============================] - 20s 473ms/step - loss: 0.0359 - accuracy: 0.9882 - val_loss: 0.0010 - val_accuracy: 1.0000\n",
            "Epoch 44/50\n",
            "43/43 [==============================] - 20s 472ms/step - loss: 0.0373 - accuracy: 0.9888 - val_loss: 7.3907e-04 - val_accuracy: 1.0000\n",
            "Epoch 45/50\n",
            "43/43 [==============================] - 20s 473ms/step - loss: 0.0311 - accuracy: 0.9895 - val_loss: 7.7050e-04 - val_accuracy: 1.0000\n",
            "Epoch 46/50\n",
            "43/43 [==============================] - 20s 472ms/step - loss: 0.0370 - accuracy: 0.9883 - val_loss: 6.6700e-04 - val_accuracy: 1.0000\n",
            "Epoch 47/50\n",
            "43/43 [==============================] - 20s 473ms/step - loss: 0.0328 - accuracy: 0.9887 - val_loss: 5.9329e-04 - val_accuracy: 1.0000\n",
            "Epoch 48/50\n",
            "43/43 [==============================] - 20s 472ms/step - loss: 0.0305 - accuracy: 0.9907 - val_loss: 4.4817e-04 - val_accuracy: 1.0000\n",
            "Epoch 49/50\n",
            "43/43 [==============================] - 20s 471ms/step - loss: 0.0316 - accuracy: 0.9898 - val_loss: 5.5608e-04 - val_accuracy: 1.0000\n",
            "Epoch 50/50\n",
            "43/43 [==============================] - 20s 471ms/step - loss: 0.0279 - accuracy: 0.9912 - val_loss: 5.6879e-04 - val_accuracy: 1.0000\n"
          ],
          "name": "stdout"
        }
      ]
    },
    {
      "cell_type": "code",
      "metadata": {
        "id": "T2lD-CEgJ3RP"
      },
      "source": [
        "import cv2\n",
        "import pandas as pd\n",
        "import numpy as np\n",
        "from PIL import Image\n",
        "l=[]\n",
        "\n",
        "i=0\n",
        "while i<3:\n",
        "  image=str(i)+'.jpeg';\n",
        "  img_array = cv2.imread(image, cv2.IMREAD_GRAYSCALE)\n",
        "  img_pil = Image.fromarray(img_array)\n",
        "  img_28x28 = np.array(img_pil.resize((28, 28), Image.ANTIALIAS))\n",
        "  resize=img_28x28.flatten()/255\n",
        "  l.append(resize)\n",
        "  i+=1\n"
      ],
      "execution_count": null,
      "outputs": []
    },
    {
      "cell_type": "code",
      "metadata": {
        "colab": {
          "base_uri": "https://localhost:8080/"
        },
        "id": "Y0_sq6XDqTS6",
        "outputId": "0b6696b5-c567-4707-fa72-ec11ef4bf9b7"
      },
      "source": [
        "l"
      ],
      "execution_count": null,
      "outputs": [
        {
          "output_type": "execute_result",
          "data": {
            "text/plain": [
              "[array([0.72941176, 0.7372549 , 0.72156863, 0.73333333, 0.72156863,\n",
              "        0.72156863, 0.72941176, 0.7254902 , 0.7254902 , 0.72941176,\n",
              "        0.71372549, 0.7254902 , 0.72156863, 0.71764706, 0.71372549,\n",
              "        0.71372549, 0.70196078, 0.69803922, 0.69803922, 0.69019608,\n",
              "        0.6745098 , 0.67843137, 0.66666667, 0.65882353, 0.63529412,\n",
              "        0.59607843, 0.56862745, 0.52941176, 0.72941176, 0.73333333,\n",
              "        0.72941176, 0.74117647, 0.73333333, 0.72156863, 0.72941176,\n",
              "        0.7254902 , 0.73333333, 0.73333333, 0.72156863, 0.72941176,\n",
              "        0.72156863, 0.72156863, 0.71764706, 0.71372549, 0.70588235,\n",
              "        0.70588235, 0.70588235, 0.69411765, 0.69803922, 0.69019608,\n",
              "        0.67843137, 0.6745098 , 0.6745098 , 0.6627451 , 0.65490196,\n",
              "        0.6627451 , 0.72941176, 0.7372549 , 0.7372549 , 0.74117647,\n",
              "        0.73333333, 0.73333333, 0.73333333, 0.73333333, 0.74117647,\n",
              "        0.74117647, 0.72941176, 0.72941176, 0.71372549, 0.7254902 ,\n",
              "        0.72941176, 0.75294118, 0.76078431, 0.72941176, 0.6745098 ,\n",
              "        0.62745098, 0.59607843, 0.65490196, 0.68627451, 0.67058824,\n",
              "        0.6627451 , 0.65490196, 0.65882353, 0.65490196, 0.71372549,\n",
              "        0.7254902 , 0.72941176, 0.73333333, 0.7254902 , 0.72941176,\n",
              "        0.7254902 , 0.73333333, 0.74117647, 0.7372549 , 0.7254902 ,\n",
              "        0.7254902 , 0.74901961, 0.76078431, 0.76470588, 0.71764706,\n",
              "        0.58431373, 0.46666667, 0.37254902, 0.32941176, 0.30196078,\n",
              "        0.34509804, 0.43529412, 0.50588235, 0.65882353, 0.65882353,\n",
              "        0.66666667, 0.65098039, 0.70588235, 0.72156863, 0.72941176,\n",
              "        0.73333333, 0.7254902 , 0.72941176, 0.7254902 , 0.72941176,\n",
              "        0.74117647, 0.7372549 , 0.72941176, 0.75686275, 0.78431373,\n",
              "        0.70588235, 0.59215686, 0.42745098, 0.26666667, 0.23529412,\n",
              "        0.22745098, 0.25490196, 0.25098039, 0.19607843, 0.23137255,\n",
              "        0.27058824, 0.42745098, 0.67058824, 0.66666667, 0.65882353,\n",
              "        0.70196078, 0.7254902 , 0.7254902 , 0.7254902 , 0.7254902 ,\n",
              "        0.73333333, 0.73333333, 0.72941176, 0.73333333, 0.7372549 ,\n",
              "        0.72941176, 0.78039216, 0.65098039, 0.42352941, 0.30588235,\n",
              "        0.26666667, 0.23137255, 0.19607843, 0.22352941, 0.20392157,\n",
              "        0.15294118, 0.18823529, 0.23529412, 0.31764706, 0.54117647,\n",
              "        0.67843137, 0.65490196, 0.65882353, 0.6745098 , 0.73333333,\n",
              "        0.73333333, 0.7372549 , 0.72156863, 0.72941176, 0.7372549 ,\n",
              "        0.7372549 , 0.7372549 , 0.72156863, 0.76078431, 0.73333333,\n",
              "        0.50196078, 0.2627451 , 0.21568627, 0.18823529, 0.14509804,\n",
              "        0.14509804, 0.14117647, 0.22745098, 0.38431373, 0.43921569,\n",
              "        0.57647059, 0.70196078, 0.67843137, 0.6627451 , 0.66666667,\n",
              "        0.66666667, 0.64313725, 0.73333333, 0.73333333, 0.74117647,\n",
              "        0.72941176, 0.7254902 , 0.72941176, 0.7372549 , 0.7372549 ,\n",
              "        0.74901961, 0.78823529, 0.60392157, 0.37647059, 0.29411765,\n",
              "        0.18039216, 0.18431373, 0.14901961, 0.14901961, 0.35294118,\n",
              "        0.65098039, 0.74901961, 0.73333333, 0.70980392, 0.67843137,\n",
              "        0.66666667, 0.67058824, 0.65490196, 0.67058824, 0.63529412,\n",
              "        0.73333333, 0.72941176, 0.74117647, 0.72941176, 0.7372549 ,\n",
              "        0.7254902 , 0.71764706, 0.74117647, 0.80784314, 0.6627451 ,\n",
              "        0.4       , 0.31764706, 0.22352941, 0.17254902, 0.18039216,\n",
              "        0.16078431, 0.48235294, 0.74509804, 0.72156863, 0.70196078,\n",
              "        0.69411765, 0.68627451, 0.68627451, 0.68235294, 0.6745098 ,\n",
              "        0.67058824, 0.68235294, 0.65882353, 0.72941176, 0.7372549 ,\n",
              "        0.7372549 , 0.72941176, 0.74117647, 0.72156863, 0.72156863,\n",
              "        0.81568627, 0.76470588, 0.5372549 , 0.35294118, 0.2745098 ,\n",
              "        0.23529412, 0.16470588, 0.14117647, 0.25882353, 0.70196078,\n",
              "        0.72941176, 0.70196078, 0.71372549, 0.70196078, 0.69019608,\n",
              "        0.69019608, 0.68627451, 0.6745098 , 0.6745098 , 0.68627451,\n",
              "        0.69803922, 0.7254902 , 0.7372549 , 0.73333333, 0.73333333,\n",
              "        0.7372549 , 0.72156863, 0.79607843, 0.79215686, 0.58431373,\n",
              "        0.42745098, 0.37647059, 0.35686275, 0.31764706, 0.21568627,\n",
              "        0.14901961, 0.40392157, 0.74901961, 0.71372549, 0.71372549,\n",
              "        0.71764706, 0.70196078, 0.69803922, 0.70196078, 0.69411765,\n",
              "        0.69019608, 0.68235294, 0.68627451, 0.70588235, 0.7254902 ,\n",
              "        0.73333333, 0.73333333, 0.73333333, 0.72156863, 0.74901961,\n",
              "        0.81176471, 0.67843137, 0.49803922, 0.38039216, 0.32941176,\n",
              "        0.3372549 , 0.28627451, 0.22745098, 0.23137255, 0.58039216,\n",
              "        0.74901961, 0.70980392, 0.71372549, 0.71764706, 0.70588235,\n",
              "        0.70588235, 0.70588235, 0.69803922, 0.69803922, 0.69019608,\n",
              "        0.69019608, 0.70980392, 0.7254902 , 0.74117647, 0.74117647,\n",
              "        0.7372549 , 0.73333333, 0.8       , 0.75686275, 0.58039216,\n",
              "        0.43529412, 0.34901961, 0.3254902 , 0.29411765, 0.21568627,\n",
              "        0.22745098, 0.29411765, 0.65098039, 0.73333333, 0.71372549,\n",
              "        0.71764706, 0.72156863, 0.70980392, 0.70980392, 0.69411765,\n",
              "        0.69411765, 0.70196078, 0.70196078, 0.69803922, 0.70980392,\n",
              "        0.73333333, 0.74117647, 0.74117647, 0.73333333, 0.76862745,\n",
              "        0.80784314, 0.67843137, 0.48235294, 0.33333333, 0.28235294,\n",
              "        0.28235294, 0.24313725, 0.22352941, 0.24313725, 0.36862745,\n",
              "        0.71764706, 0.7254902 , 0.71372549, 0.71764706, 0.71764706,\n",
              "        0.70980392, 0.70196078, 0.70196078, 0.70980392, 0.65882353,\n",
              "        0.65490196, 0.70196078, 0.72156863, 0.73333333, 0.7372549 ,\n",
              "        0.7372549 , 0.73333333, 0.80784314, 0.76470588, 0.62745098,\n",
              "        0.48235294, 0.38431373, 0.34117647, 0.26666667, 0.22745098,\n",
              "        0.23529412, 0.21568627, 0.36078431, 0.74509804, 0.71764706,\n",
              "        0.70588235, 0.71372549, 0.70588235, 0.70980392, 0.7254902 ,\n",
              "        0.62745098, 0.50196078, 0.46666667, 0.42352941, 0.52941176,\n",
              "        0.72156863, 0.73333333, 0.7372549 , 0.7254902 , 0.77254902,\n",
              "        0.79215686, 0.67058824, 0.54901961, 0.46666667, 0.38823529,\n",
              "        0.33333333, 0.25490196, 0.23921569, 0.24313725, 0.2627451 ,\n",
              "        0.27058824, 0.61960784, 0.73333333, 0.69411765, 0.70588235,\n",
              "        0.73333333, 0.70980392, 0.50980392, 0.39607843, 0.41960784,\n",
              "        0.39215686, 0.41568627, 0.61568627, 0.71764706, 0.72941176,\n",
              "        0.72156863, 0.7372549 , 0.79607843, 0.7372549 , 0.63137255,\n",
              "        0.60392157, 0.54117647, 0.40784314, 0.31372549, 0.25882353,\n",
              "        0.24313725, 0.25882353, 0.28235294, 0.29411765, 0.40784314,\n",
              "        0.70980392, 0.72941176, 0.71764706, 0.62745098, 0.43137255,\n",
              "        0.34509804, 0.40392157, 0.34509804, 0.42352941, 0.6745098 ,\n",
              "        0.72156863, 0.72156863, 0.7254902 , 0.70588235, 0.77647059,\n",
              "        0.77647059, 0.68235294, 0.60392157, 0.60392157, 0.56470588,\n",
              "        0.38823529, 0.31372549, 0.25490196, 0.2627451 , 0.29019608,\n",
              "        0.29803922, 0.32941176, 0.34901961, 0.49411765, 0.58039216,\n",
              "        0.4627451 , 0.37254902, 0.36862745, 0.34509804, 0.27843137,\n",
              "        0.4       , 0.69019608, 0.70196078, 0.69019608, 0.72156863,\n",
              "        0.71372549, 0.73333333, 0.78823529, 0.71764706, 0.58823529,\n",
              "        0.55686275, 0.6745098 , 0.50980392, 0.34509804, 0.3254902 ,\n",
              "        0.26666667, 0.30196078, 0.31764706, 0.34901961, 0.37254902,\n",
              "        0.4       , 0.36470588, 0.3254902 , 0.37647059, 0.37254902,\n",
              "        0.3254902 , 0.29019608, 0.43137255, 0.67058824, 0.69019608,\n",
              "        0.69019608, 0.67058824, 0.71764706, 0.70196078, 0.75686275,\n",
              "        0.74509804, 0.6745098 , 0.61176471, 0.68235294, 0.65098039,\n",
              "        0.41568627, 0.34901961, 0.32156863, 0.28627451, 0.34117647,\n",
              "        0.35686275, 0.38039216, 0.40784314, 0.4       , 0.38431373,\n",
              "        0.37647059, 0.36470588, 0.30980392, 0.39215686, 0.58039216,\n",
              "        0.69411765, 0.68627451, 0.67843137, 0.70980392, 0.63137255,\n",
              "        0.69411765, 0.69803922, 0.77647059, 0.72941176, 0.65882353,\n",
              "        0.6       , 0.63921569, 0.50980392, 0.36862745, 0.34117647,\n",
              "        0.31764706, 0.30980392, 0.36470588, 0.37254902, 0.36470588,\n",
              "        0.35686275, 0.36078431, 0.35294118, 0.30196078, 0.35686275,\n",
              "        0.56078431, 0.70980392, 0.70980392, 0.68235294, 0.6745098 ,\n",
              "        0.67843137, 0.72941176, 0.59215686, 0.68235294, 0.73333333,\n",
              "        0.76862745, 0.72941176, 0.68627451, 0.62352941, 0.56862745,\n",
              "        0.42745098, 0.34901961, 0.34117647, 0.3254902 , 0.32941176,\n",
              "        0.33333333, 0.32941176, 0.32156863, 0.30196078, 0.30588235,\n",
              "        0.35686275, 0.45882353, 0.6745098 , 0.74117647, 0.70196078,\n",
              "        0.69019608, 0.69019608, 0.68235294, 0.68627451, 0.74117647,\n",
              "        0.54509804, 0.67058824, 0.72941176, 0.75686275, 0.70196078,\n",
              "        0.61960784, 0.50196078, 0.40784314, 0.34509804, 0.32156863,\n",
              "        0.31764706, 0.31372549, 0.3254902 , 0.30196078, 0.27058824,\n",
              "        0.25098039, 0.34117647, 0.54901961, 0.68235294, 0.7372549 ,\n",
              "        0.72941176, 0.70196078, 0.70588235, 0.69019608, 0.69019608,\n",
              "        0.68235294, 0.69803922, 0.74117647, 0.52156863, 0.64705882,\n",
              "        0.72156863, 0.69803922, 0.57254902, 0.40784314, 0.3254902 ,\n",
              "        0.31764706, 0.30196078, 0.28627451, 0.30588235, 0.30980392,\n",
              "        0.28235294, 0.28235294, 0.30196078, 0.49019608, 0.69803922,\n",
              "        0.74509804, 0.72156863, 0.70980392, 0.70980392, 0.70588235,\n",
              "        0.70588235, 0.69803922, 0.69803922, 0.68235294, 0.70588235,\n",
              "        0.74117647, 0.50980392, 0.65490196, 0.70196078, 0.64313725,\n",
              "        0.50196078, 0.43137255, 0.35294118, 0.30588235, 0.28235294,\n",
              "        0.30980392, 0.31764706, 0.27843137, 0.3372549 , 0.58823529,\n",
              "        0.69019608, 0.72941176, 0.7254902 , 0.70588235, 0.71372549,\n",
              "        0.71764706, 0.71372549, 0.70196078, 0.70588235, 0.69803922,\n",
              "        0.70196078, 0.69411765, 0.71764706, 0.72941176, 0.50588235,\n",
              "        0.65882353, 0.69019608, 0.63137255, 0.57647059, 0.50980392,\n",
              "        0.34509804, 0.30588235, 0.31764706, 0.32941176, 0.29803922,\n",
              "        0.33333333, 0.65098039, 0.74509804, 0.71372549, 0.70196078,\n",
              "        0.70980392, 0.71764706, 0.70980392, 0.71372549, 0.71372549,\n",
              "        0.70588235, 0.70980392, 0.70196078, 0.70980392, 0.70196078,\n",
              "        0.72156863, 0.69019608, 0.49019608, 0.65098039, 0.68627451,\n",
              "        0.64313725, 0.61176471, 0.48627451, 0.33333333, 0.31372549,\n",
              "        0.31372549, 0.30980392, 0.28627451, 0.56470588, 0.74509804,\n",
              "        0.70588235, 0.70980392, 0.71372549, 0.71764706, 0.71372549,\n",
              "        0.70980392, 0.70980392, 0.71372549, 0.70588235, 0.71372549,\n",
              "        0.70980392, 0.70588235, 0.69019608, 0.71372549, 0.6745098 ,\n",
              "        0.60392157, 0.63921569, 0.67843137, 0.63921569, 0.62745098,\n",
              "        0.49019608, 0.34509804, 0.32941176, 0.3254902 , 0.31372549,\n",
              "        0.35294118, 0.68627451, 0.7254902 , 0.71372549, 0.70980392,\n",
              "        0.70980392, 0.71372549, 0.71372549, 0.71372549, 0.71372549,\n",
              "        0.71372549, 0.70980392, 0.71764706, 0.69019608, 0.67058824,\n",
              "        0.67843137, 0.70980392, 0.70588235, 0.70588235]),\n",
              " array([0.10196078, 0.10980392, 0.11372549, 0.11764706, 0.12156863,\n",
              "        0.12941176, 0.13333333, 0.13333333, 0.1372549 , 0.14901961,\n",
              "        0.15294118, 0.15686275, 0.15686275, 0.14117647, 0.13333333,\n",
              "        0.13333333, 0.16862745, 0.16078431, 0.16862745, 0.16862745,\n",
              "        0.16078431, 0.2627451 , 0.50588235, 0.33333333, 0.18431373,\n",
              "        0.23921569, 0.25490196, 0.27843137, 0.09019608, 0.09803922,\n",
              "        0.10196078, 0.10588235, 0.11764706, 0.12156863, 0.13333333,\n",
              "        0.1372549 , 0.14117647, 0.15294118, 0.14901961, 0.16862745,\n",
              "        0.16862745, 0.2627451 , 0.34509804, 0.34509804, 0.17254902,\n",
              "        0.2745098 , 0.42352941, 0.42745098, 0.28235294, 0.34509804,\n",
              "        0.6745098 , 0.71372549, 0.23921569, 0.15686275, 0.18039216,\n",
              "        0.17647059, 0.09803922, 0.10980392, 0.10196078, 0.12156863,\n",
              "        0.11372549, 0.12156863, 0.1254902 , 0.1254902 , 0.12156863,\n",
              "        0.14901961, 0.2       , 0.1372549 , 0.29411765, 0.55686275,\n",
              "        0.56470588, 0.76862745, 0.52156863, 0.46666667, 0.56078431,\n",
              "        0.58823529, 0.5372549 , 0.32941176, 0.59215686, 0.81176471,\n",
              "        0.60392157, 0.14901961, 0.16862745, 0.17647059, 0.09803922,\n",
              "        0.10980392, 0.10980392, 0.1372549 , 0.11764706, 0.16470588,\n",
              "        0.14901961, 0.12941176, 0.28627451, 0.49803922, 0.63529412,\n",
              "        0.65098039, 0.4627451 , 0.6       , 0.60392157, 0.76078431,\n",
              "        0.7254902 , 0.45882353, 0.52156863, 0.59215686, 0.67058824,\n",
              "        0.34509804, 0.5254902 , 0.71764706, 0.81960784, 0.54901961,\n",
              "        0.18431373, 0.16862745, 0.08627451, 0.10588235, 0.10980392,\n",
              "        0.10980392, 0.11764706, 0.1254902 , 0.13333333, 0.18823529,\n",
              "        0.49411765, 0.62352941, 0.70196078, 0.89803922, 0.6627451 ,\n",
              "        0.6       , 0.68235294, 0.77254902, 0.76078431, 0.44705882,\n",
              "        0.5254902 , 0.63529412, 0.76862745, 0.45490196, 0.45490196,\n",
              "        0.66666667, 0.77647059, 0.81960784, 0.64313725, 0.34901961,\n",
              "        0.07843137, 0.09019608, 0.10196078, 0.10588235, 0.14509804,\n",
              "        0.1254902 , 0.09803922, 0.21960784, 0.51372549, 0.61568627,\n",
              "        0.69411765, 0.85490196, 0.76470588, 0.60392157, 0.69019608,\n",
              "        0.82352941, 0.79215686, 0.43137255, 0.55686275, 0.68627451,\n",
              "        0.82352941, 0.61568627, 0.40392157, 0.60392157, 0.75294118,\n",
              "        0.80392157, 0.84313725, 0.81568627, 0.07843137, 0.07843137,\n",
              "        0.09019608, 0.11372549, 0.10588235, 0.13333333, 0.25882353,\n",
              "        0.29803922, 0.44705882, 0.63921569, 0.7254902 , 0.8627451 ,\n",
              "        0.8       , 0.6       , 0.69803922, 0.85490196, 0.82352941,\n",
              "        0.44705882, 0.59215686, 0.71764706, 0.81960784, 0.6745098 ,\n",
              "        0.3372549 , 0.51764706, 0.68235294, 0.75294118, 0.79215686,\n",
              "        0.87058824, 0.0745098 , 0.07843137, 0.10588235, 0.10588235,\n",
              "        0.15686275, 0.45098039, 0.6627451 , 0.78039216, 0.5372549 ,\n",
              "        0.61960784, 0.75686275, 0.87058824, 0.85490196, 0.59215686,\n",
              "        0.72156863, 0.8627451 , 0.79607843, 0.43529412, 0.61176471,\n",
              "        0.67843137, 0.81568627, 0.5254902 , 0.13333333, 0.34509804,\n",
              "        0.49411765, 0.65490196, 0.81960784, 0.88627451, 0.09019608,\n",
              "        0.07843137, 0.09019608, 0.10980392, 0.35294118, 0.59215686,\n",
              "        0.69019608, 0.8627451 , 0.72156863, 0.58823529, 0.72941176,\n",
              "        0.8627451 , 0.90980392, 0.58823529, 0.67843137, 0.83529412,\n",
              "        0.74509804, 0.41176471, 0.62352941, 0.67843137, 0.81960784,\n",
              "        0.41568627, 0.17254902, 0.40392157, 0.54901961, 0.74117647,\n",
              "        0.85098039, 0.89411765, 0.10980392, 0.09411765, 0.09411765,\n",
              "        0.1254902 , 0.35294118, 0.5254902 , 0.6745098 , 0.84313725,\n",
              "        0.82352941, 0.55686275, 0.69411765, 0.83529412, 0.92156863,\n",
              "        0.54117647, 0.60784314, 0.78823529, 0.74901961, 0.43137255,\n",
              "        0.59607843, 0.73333333, 0.8627451 , 0.36470588, 0.24313725,\n",
              "        0.46666667, 0.57254902, 0.75686275, 0.87058824, 0.90980392,\n",
              "        0.10196078, 0.09019608, 0.10980392, 0.12941176, 0.3254902 ,\n",
              "        0.49019608, 0.6627451 , 0.82745098, 0.91372549, 0.57647059,\n",
              "        0.63137255, 0.76470588, 0.88235294, 0.55686275, 0.6       ,\n",
              "        0.78431373, 0.84705882, 0.45098039, 0.47058824, 0.71372549,\n",
              "        0.85490196, 0.25098039, 0.32156863, 0.48627451, 0.61568627,\n",
              "        0.77647059, 0.89019608, 0.8745098 , 0.0745098 , 0.09019608,\n",
              "        0.09019608, 0.16470588, 0.39215686, 0.41568627, 0.63137255,\n",
              "        0.8       , 0.94509804, 0.63529412, 0.50980392, 0.71764706,\n",
              "        0.88235294, 0.70980392, 0.54117647, 0.72941176, 0.87843137,\n",
              "        0.48235294, 0.52941176, 0.65490196, 0.55686275, 0.43529412,\n",
              "        0.49019608, 0.62745098, 0.70980392, 0.81568627, 0.92156863,\n",
              "        0.74509804, 0.08235294, 0.10980392, 0.09411765, 0.14509804,\n",
              "        0.41960784, 0.39607843, 0.5372549 , 0.72156863, 0.89411765,\n",
              "        0.70196078, 0.50588235, 0.72156863, 0.8627451 , 0.80392157,\n",
              "        0.45882353, 0.67843137, 0.70588235, 0.43529412, 0.53333333,\n",
              "        0.45882353, 0.35294118, 0.63529412, 0.65882353, 0.70588235,\n",
              "        0.77254902, 0.84313725, 0.92941176, 0.65490196, 0.07843137,\n",
              "        0.10196078, 0.09019608, 0.12941176, 0.4627451 , 0.43137255,\n",
              "        0.40784314, 0.63921569, 0.84705882, 0.80784314, 0.47843137,\n",
              "        0.61176471, 0.79607843, 0.75686275, 0.40392157, 0.62352941,\n",
              "        0.45098039, 0.2745098 , 0.41568627, 0.44705882, 0.55686275,\n",
              "        0.70196078, 0.80392157, 0.76078431, 0.80784314, 0.85490196,\n",
              "        0.92941176, 0.58431373, 0.07843137, 0.09019608, 0.09019608,\n",
              "        0.10980392, 0.42745098, 0.49803922, 0.38039216, 0.59607843,\n",
              "        0.75686275, 0.76862745, 0.43921569, 0.49019608, 0.77647059,\n",
              "        0.64313725, 0.25490196, 0.42352941, 0.44313725, 0.47843137,\n",
              "        0.56470588, 0.65882353, 0.70588235, 0.77647059, 0.87058824,\n",
              "        0.85882353, 0.83921569, 0.8627451 , 0.94117647, 0.54117647,\n",
              "        0.08235294, 0.09019608, 0.08627451, 0.10588235, 0.41960784,\n",
              "        0.69019608, 0.58823529, 0.56862745, 0.71764706, 0.76862745,\n",
              "        0.36078431, 0.35294118, 0.49803922, 0.45490196, 0.40784314,\n",
              "        0.50588235, 0.56862745, 0.62352941, 0.6745098 , 0.73333333,\n",
              "        0.79215686, 0.84313725, 0.89411765, 0.90196078, 0.8627451 ,\n",
              "        0.94117647, 0.78039216, 0.29019608, 0.08235294, 0.09019608,\n",
              "        0.09019608, 0.09803922, 0.4       , 0.76862745, 0.85490196,\n",
              "        0.70980392, 0.65098039, 0.61568627, 0.48235294, 0.45882353,\n",
              "        0.41176471, 0.51764706, 0.57254902, 0.55294118, 0.58823529,\n",
              "        0.65490196, 0.71764706, 0.77647059, 0.83921569, 0.89019608,\n",
              "        0.91372549, 0.89803922, 0.94509804, 0.80392157, 0.30196078,\n",
              "        0.23529412, 0.10196078, 0.10980392, 0.11764706, 0.10980392,\n",
              "        0.38431373, 0.73333333, 0.82352941, 0.78431373, 0.67843137,\n",
              "        0.62352941, 0.61568627, 0.56862745, 0.57254902, 0.56078431,\n",
              "        0.58431373, 0.60784314, 0.63137255, 0.6627451 , 0.73333333,\n",
              "        0.8       , 0.86666667, 0.90980392, 0.90980392, 0.95294118,\n",
              "        0.82352941, 0.29411765, 0.24313725, 0.33333333, 0.08235294,\n",
              "        0.08627451, 0.09411765, 0.0745098 , 0.32156863, 0.68627451,\n",
              "        0.76078431, 0.70196078, 0.69803922, 0.76470588, 0.68235294,\n",
              "        0.56862745, 0.58039216, 0.61568627, 0.63137255, 0.62745098,\n",
              "        0.6745098 , 0.69411765, 0.74901961, 0.81568627, 0.88627451,\n",
              "        0.91764706, 0.96078431, 0.82352941, 0.29803922, 0.21176471,\n",
              "        0.25098039, 0.27058824, 0.09411765, 0.10588235, 0.11372549,\n",
              "        0.09019608, 0.2627451 , 0.58431373, 0.65490196, 0.64705882,\n",
              "        0.73333333, 0.80392157, 0.73333333, 0.61568627, 0.62745098,\n",
              "        0.67058824, 0.63921569, 0.63921569, 0.71764706, 0.7254902 ,\n",
              "        0.78431373, 0.85098039, 0.89019608, 0.95294118, 0.85490196,\n",
              "        0.30196078, 0.2       , 0.23921569, 0.23529412, 0.24705882,\n",
              "        0.0627451 , 0.07058824, 0.08235294, 0.06666667, 0.18039216,\n",
              "        0.47843137, 0.57254902, 0.67058824, 0.77254902, 0.78431373,\n",
              "        0.75686275, 0.69019608, 0.65490196, 0.6745098 , 0.65882353,\n",
              "        0.65098039, 0.70196078, 0.75686275, 0.80784314, 0.85098039,\n",
              "        0.92156863, 0.90588235, 0.35686275, 0.18431373, 0.23921569,\n",
              "        0.23137255, 0.2627451 , 0.27058824, 0.05098039, 0.05098039,\n",
              "        0.05490196, 0.03921569, 0.10980392, 0.43137255, 0.56470588,\n",
              "        0.70588235, 0.75686275, 0.74901961, 0.73333333, 0.66666667,\n",
              "        0.64705882, 0.69803922, 0.69803922, 0.70588235, 0.69019608,\n",
              "        0.74509804, 0.82352941, 0.86666667, 0.9254902 , 0.43529412,\n",
              "        0.16862745, 0.23137255, 0.21568627, 0.24313725, 0.27058824,\n",
              "        0.32941176, 0.04705882, 0.04705882, 0.04705882, 0.03921569,\n",
              "        0.05490196, 0.35294118, 0.56470588, 0.65882353, 0.70588235,\n",
              "        0.7372549 , 0.6745098 , 0.56470588, 0.6627451 , 0.75686275,\n",
              "        0.74117647, 0.74901961, 0.76078431, 0.74901961, 0.82745098,\n",
              "        0.8627451 , 0.4627451 , 0.22745098, 0.25490196, 0.2745098 ,\n",
              "        0.34509804, 0.33333333, 0.33333333, 0.40392157, 0.04313725,\n",
              "        0.03921569, 0.03529412, 0.03921569, 0.01960784, 0.21960784,\n",
              "        0.39607843, 0.57647059, 0.69019608, 0.68627451, 0.63921569,\n",
              "        0.54117647, 0.61960784, 0.74901961, 0.78431373, 0.79607843,\n",
              "        0.82352941, 0.82745098, 0.89803922, 0.54509804, 0.23921569,\n",
              "        0.69019608, 0.56470588, 0.36470588, 0.6627451 , 0.49803922,\n",
              "        0.45882353, 0.61176471, 0.03921569, 0.03137255, 0.03137255,\n",
              "        0.03529412, 0.01960784, 0.11372549, 0.31764706, 0.45098039,\n",
              "        0.63137255, 0.62745098, 0.59215686, 0.58039216, 0.58431373,\n",
              "        0.69411765, 0.80784314, 0.84313725, 0.8627451 , 0.87058824,\n",
              "        0.85882353, 0.34901961, 0.23921569, 0.42352941, 0.40784314,\n",
              "        0.32941176, 0.49019608, 0.40784314, 0.51372549, 0.73333333,\n",
              "        0.03529412, 0.03137255, 0.03137255, 0.03137255, 0.02745098,\n",
              "        0.05882353, 0.29803922, 0.38039216, 0.54901961, 0.58431373,\n",
              "        0.56862745, 0.62352941, 0.58039216, 0.67058824, 0.77647059,\n",
              "        0.84313725, 0.85882353, 0.85490196, 0.80784314, 0.30980392,\n",
              "        0.18039216, 0.27058824, 0.24313725, 0.25882353, 0.3254902 ,\n",
              "        0.30588235, 0.38431373, 0.49019608, 0.03137255, 0.02745098,\n",
              "        0.02745098, 0.02745098, 0.03137255, 0.02745098, 0.27058824,\n",
              "        0.34901961, 0.46666667, 0.5254902 , 0.59215686, 0.60784314,\n",
              "        0.54509804, 0.67843137, 0.77254902, 0.81176471, 0.83137255,\n",
              "        0.82352941, 0.81960784, 0.34117647, 0.11372549, 0.14509804,\n",
              "        0.14509804, 0.15294118, 0.16862745, 0.17647059, 0.18431373,\n",
              "        0.21568627, 0.02745098, 0.02352941, 0.02352941, 0.02352941,\n",
              "        0.03137255, 0.01568627, 0.23137255, 0.35294118, 0.42352941,\n",
              "        0.49411765, 0.61568627, 0.52941176, 0.56078431, 0.69803922,\n",
              "        0.76470588, 0.8       , 0.81176471, 0.80784314, 0.81960784,\n",
              "        0.42352941, 0.10588235, 0.1254902 , 0.12156863, 0.11764706,\n",
              "        0.12156863, 0.1254902 , 0.13333333, 0.12941176]),\n",
              " array([0.71372549, 0.71372549, 0.70980392, 0.72156863, 0.72156863,\n",
              "        0.72156863, 0.71372549, 0.71764706, 0.70980392, 0.69803922,\n",
              "        0.70980392, 0.69803922, 0.69019608, 0.70196078, 0.68627451,\n",
              "        0.68627451, 0.68627451, 0.67843137, 0.67843137, 0.6745098 ,\n",
              "        0.66666667, 0.65490196, 0.65098039, 0.64705882, 0.62745098,\n",
              "        0.62745098, 0.62745098, 0.62745098, 0.71372549, 0.70980392,\n",
              "        0.71764706, 0.72156863, 0.7254902 , 0.72156863, 0.71372549,\n",
              "        0.71764706, 0.71372549, 0.70588235, 0.71372549, 0.69803922,\n",
              "        0.68627451, 0.70196078, 0.68235294, 0.68627451, 0.68627451,\n",
              "        0.68235294, 0.67843137, 0.67843137, 0.68235294, 0.6745098 ,\n",
              "        0.65490196, 0.63921569, 0.62745098, 0.64313725, 0.63137255,\n",
              "        0.63137255, 0.71764706, 0.71372549, 0.71372549, 0.71764706,\n",
              "        0.72941176, 0.71372549, 0.71764706, 0.72156863, 0.71764706,\n",
              "        0.71372549, 0.72156863, 0.71764706, 0.70588235, 0.70588235,\n",
              "        0.69019608, 0.69411765, 0.69803922, 0.69411765, 0.67843137,\n",
              "        0.70980392, 0.58039216, 0.53333333, 0.67843137, 0.65098039,\n",
              "        0.65098039, 0.65098039, 0.63921569, 0.63137255, 0.71764706,\n",
              "        0.71764706, 0.71764706, 0.71372549, 0.71764706, 0.72156863,\n",
              "        0.72156863, 0.72156863, 0.72156863, 0.71764706, 0.71372549,\n",
              "        0.71764706, 0.71372549, 0.71372549, 0.70980392, 0.70588235,\n",
              "        0.71764706, 0.68235294, 0.49019608, 0.66666667, 0.45882353,\n",
              "        0.38823529, 0.70196078, 0.65490196, 0.65098039, 0.64705882,\n",
              "        0.64313725, 0.63921569, 0.71372549, 0.72156863, 0.71764706,\n",
              "        0.72156863, 0.72156863, 0.72156863, 0.7254902 , 0.72941176,\n",
              "        0.72156863, 0.72156863, 0.71764706, 0.71764706, 0.71764706,\n",
              "        0.71372549, 0.70588235, 0.70980392, 0.73333333, 0.59215686,\n",
              "        0.36862745, 0.61568627, 0.4       , 0.47843137, 0.58823529,\n",
              "        0.58823529, 0.6627451 , 0.64313725, 0.63921569, 0.64705882,\n",
              "        0.70980392, 0.70980392, 0.72156863, 0.7254902 , 0.72941176,\n",
              "        0.7254902 , 0.7254902 , 0.72941176, 0.7254902 , 0.72156863,\n",
              "        0.72156863, 0.71764706, 0.71372549, 0.70980392, 0.7254902 ,\n",
              "        0.7254902 , 0.72156863, 0.45882353, 0.44705882, 0.67843137,\n",
              "        0.4       , 0.56862745, 0.4627451 , 0.44705882, 0.67843137,\n",
              "        0.63137255, 0.64313725, 0.65882353, 0.72156863, 0.70588235,\n",
              "        0.70588235, 0.72156863, 0.7254902 , 0.72156863, 0.72156863,\n",
              "        0.72941176, 0.7254902 , 0.72156863, 0.72156863, 0.72156863,\n",
              "        0.70980392, 0.7372549 , 0.61568627, 0.68235294, 0.70980392,\n",
              "        0.38431373, 0.57647059, 0.64313725, 0.36078431, 0.57254902,\n",
              "        0.44313725, 0.45882353, 0.67058824, 0.62745098, 0.64313725,\n",
              "        0.66666667, 0.7254902 , 0.70980392, 0.70196078, 0.72156863,\n",
              "        0.72156863, 0.72156863, 0.72156863, 0.7254902 , 0.72156863,\n",
              "        0.7254902 , 0.7254902 , 0.71372549, 0.7372549 , 0.69019608,\n",
              "        0.4745098 , 0.69411765, 0.61568627, 0.37647059, 0.63137255,\n",
              "        0.54117647, 0.35686275, 0.65882353, 0.49019608, 0.50196078,\n",
              "        0.65490196, 0.64313725, 0.65490196, 0.66666667, 0.72156863,\n",
              "        0.70196078, 0.70588235, 0.71764706, 0.72156863, 0.7254902 ,\n",
              "        0.72156863, 0.7254902 , 0.72156863, 0.7254902 , 0.72156863,\n",
              "        0.72156863, 0.76470588, 0.54117647, 0.53333333, 0.70980392,\n",
              "        0.49019608, 0.43137255, 0.6745098 , 0.45490196, 0.43921569,\n",
              "        0.7254902 , 0.48235294, 0.51372549, 0.65098039, 0.63137255,\n",
              "        0.65490196, 0.6627451 , 0.70980392, 0.70196078, 0.71764706,\n",
              "        0.71764706, 0.71764706, 0.7254902 , 0.72156863, 0.72156863,\n",
              "        0.71764706, 0.7254902 , 0.71764706, 0.74901961, 0.71764706,\n",
              "        0.45098039, 0.64705882, 0.70196078, 0.41960784, 0.47058824,\n",
              "        0.65098039, 0.39607843, 0.56470588, 0.68627451, 0.43921569,\n",
              "        0.50196078, 0.65882353, 0.63137255, 0.64705882, 0.65490196,\n",
              "        0.70980392, 0.70588235, 0.71764706, 0.71764706, 0.71372549,\n",
              "        0.71764706, 0.72156863, 0.72156863, 0.72156863, 0.72156863,\n",
              "        0.7254902 , 0.7372549 , 0.60392157, 0.41176471, 0.66666667,\n",
              "        0.58039216, 0.29803922, 0.41568627, 0.54117647, 0.33333333,\n",
              "        0.69019608, 0.67058824, 0.41960784, 0.50588235, 0.65490196,\n",
              "        0.63529412, 0.65098039, 0.6627451 , 0.71764706, 0.71372549,\n",
              "        0.71372549, 0.72156863, 0.71764706, 0.71764706, 0.7254902 ,\n",
              "        0.72156863, 0.72156863, 0.72156863, 0.7372549 , 0.74117647,\n",
              "        0.57254902, 0.34509804, 0.58039216, 0.36862745, 0.20784314,\n",
              "        0.43921569, 0.42745098, 0.29411765, 0.68235294, 0.57254902,\n",
              "        0.38431373, 0.56078431, 0.64705882, 0.63529412, 0.65098039,\n",
              "        0.67058824, 0.70980392, 0.71372549, 0.72156863, 0.7254902 ,\n",
              "        0.72156863, 0.7254902 , 0.72941176, 0.7254902 , 0.72156863,\n",
              "        0.72156863, 0.75686275, 0.65882353, 0.39607843, 0.4745098 ,\n",
              "        0.63529412, 0.52941176, 0.52941176, 0.6       , 0.57254902,\n",
              "        0.4745098 , 0.61960784, 0.49411765, 0.38431373, 0.6       ,\n",
              "        0.63529412, 0.63529412, 0.65098039, 0.67058824, 0.71764706,\n",
              "        0.71764706, 0.72941176, 0.73333333, 0.7254902 , 0.7254902 ,\n",
              "        0.72941176, 0.7254902 , 0.72156863, 0.7254902 , 0.76078431,\n",
              "        0.65098039, 0.63529412, 0.71372549, 0.65882353, 0.64313725,\n",
              "        0.59607843, 0.56470588, 0.70980392, 0.7372549 , 0.63137255,\n",
              "        0.46666667, 0.40392157, 0.62352941, 0.61960784, 0.62745098,\n",
              "        0.6627451 , 0.60784314, 0.71764706, 0.72156863, 0.7254902 ,\n",
              "        0.72941176, 0.7254902 , 0.73333333, 0.72941176, 0.7254902 ,\n",
              "        0.71764706, 0.74901961, 0.74901961, 0.66666667, 0.50588235,\n",
              "        0.5372549 , 0.65098039, 0.65882353, 0.70196078, 0.63921569,\n",
              "        0.49411765, 0.57647059, 0.54901961, 0.43529412, 0.43921569,\n",
              "        0.62352941, 0.61176471, 0.62352941, 0.66666667, 0.50980392,\n",
              "        0.71764706, 0.72156863, 0.7254902 , 0.72941176, 0.72156863,\n",
              "        0.7254902 , 0.72941176, 0.71764706, 0.7254902 , 0.74117647,\n",
              "        0.65882353, 0.50980392, 0.32156863, 0.27058824, 0.42352941,\n",
              "        0.47843137, 0.52941176, 0.56470588, 0.4745098 , 0.37254902,\n",
              "        0.41568627, 0.4       , 0.47843137, 0.63137255, 0.61176471,\n",
              "        0.63921569, 0.67058824, 0.42745098, 0.71764706, 0.71764706,\n",
              "        0.71764706, 0.72156863, 0.71764706, 0.72156863, 0.7254902 ,\n",
              "        0.71764706, 0.72156863, 0.6745098 , 0.55686275, 0.44313725,\n",
              "        0.36078431, 0.30196078, 0.2745098 , 0.35294118, 0.55294118,\n",
              "        0.61176471, 0.56470588, 0.38431373, 0.3254902 , 0.36078431,\n",
              "        0.51372549, 0.63137255, 0.59215686, 0.57647059, 0.64705882,\n",
              "        0.38823529, 0.70588235, 0.71372549, 0.72156863, 0.71764706,\n",
              "        0.71372549, 0.72156863, 0.7254902 , 0.71764706, 0.73333333,\n",
              "        0.72156863, 0.66666667, 0.54509804, 0.42352941, 0.43137255,\n",
              "        0.5372549 , 0.71372549, 0.65098039, 0.68627451, 0.62745098,\n",
              "        0.44313725, 0.33333333, 0.38431373, 0.58431373, 0.60784314,\n",
              "        0.5372549 , 0.51372549, 0.5254902 , 0.35294118, 0.70588235,\n",
              "        0.71764706, 0.71764706, 0.71764706, 0.71764706, 0.71764706,\n",
              "        0.72156863, 0.7254902 , 0.74117647, 0.72156863, 0.61568627,\n",
              "        0.5254902 , 0.56470588, 0.60392157, 0.74117647, 0.76862745,\n",
              "        0.68627451, 0.61176471, 0.58823529, 0.45098039, 0.32156863,\n",
              "        0.42352941, 0.61176471, 0.56470588, 0.49019608, 0.52941176,\n",
              "        0.4745098 , 0.35686275, 0.70196078, 0.71372549, 0.71372549,\n",
              "        0.71372549, 0.71372549, 0.71764706, 0.72156863, 0.72156863,\n",
              "        0.73333333, 0.67843137, 0.60392157, 0.6       , 0.60784314,\n",
              "        0.68627451, 0.75294118, 0.70588235, 0.65098039, 0.55686275,\n",
              "        0.49019608, 0.45098039, 0.35294118, 0.49411765, 0.60784314,\n",
              "        0.53333333, 0.49019608, 0.52941176, 0.44313725, 0.38823529,\n",
              "        0.69803922, 0.70588235, 0.71372549, 0.70588235, 0.70980392,\n",
              "        0.71764706, 0.72156863, 0.71764706, 0.70588235, 0.67843137,\n",
              "        0.64313725, 0.6       , 0.61960784, 0.75294118, 0.69803922,\n",
              "        0.64705882, 0.59215686, 0.50980392, 0.40392157, 0.40392157,\n",
              "        0.4       , 0.56862745, 0.59607843, 0.5254902 , 0.47843137,\n",
              "        0.5372549 , 0.41176471, 0.41176471, 0.69019608, 0.70196078,\n",
              "        0.70196078, 0.69803922, 0.70588235, 0.70980392, 0.71764706,\n",
              "        0.70980392, 0.69019608, 0.67843137, 0.64313725, 0.54509804,\n",
              "        0.6745098 , 0.7254902 , 0.64313725, 0.56470588, 0.50588235,\n",
              "        0.41960784, 0.38823529, 0.37647059, 0.50980392, 0.59215686,\n",
              "        0.58039216, 0.50588235, 0.48235294, 0.5372549 , 0.37254902,\n",
              "        0.43529412, 0.69019608, 0.69803922, 0.69803922, 0.69803922,\n",
              "        0.69803922, 0.70196078, 0.71372549, 0.69411765, 0.66666667,\n",
              "        0.65882353, 0.59215686, 0.55686275, 0.68627451, 0.65098039,\n",
              "        0.56862745, 0.47843137, 0.41960784, 0.37647059, 0.37647059,\n",
              "        0.4745098 , 0.58431373, 0.56470588, 0.50980392, 0.4627451 ,\n",
              "        0.48627451, 0.50980392, 0.33333333, 0.45098039, 0.69411765,\n",
              "        0.69411765, 0.69019608, 0.69411765, 0.69411765, 0.70588235,\n",
              "        0.70588235, 0.67843137, 0.6       , 0.57647059, 0.50588235,\n",
              "        0.49803922, 0.59607843, 0.55294118, 0.47843137, 0.38431373,\n",
              "        0.34117647, 0.34901961, 0.39215686, 0.57647059, 0.55686275,\n",
              "        0.47058824, 0.43137255, 0.44313725, 0.48235294, 0.48627451,\n",
              "        0.31372549, 0.47843137, 0.68627451, 0.69019608, 0.69411765,\n",
              "        0.69019608, 0.68627451, 0.70588235, 0.69803922, 0.6745098 ,\n",
              "        0.55686275, 0.43921569, 0.37647059, 0.42745098, 0.45882353,\n",
              "        0.4       , 0.36078431, 0.34509804, 0.35294118, 0.34901961,\n",
              "        0.51372549, 0.58431373, 0.4627451 , 0.42352941, 0.43137255,\n",
              "        0.44313725, 0.47843137, 0.46666667, 0.30980392, 0.48235294,\n",
              "        0.68235294, 0.68627451, 0.68235294, 0.68627451, 0.68627451,\n",
              "        0.69803922, 0.68235294, 0.67843137, 0.63921569, 0.46666667,\n",
              "        0.47058824, 0.54509804, 0.47058824, 0.39215686, 0.34117647,\n",
              "        0.33333333, 0.3254902 , 0.42745098, 0.55686275, 0.47058824,\n",
              "        0.41176471, 0.43529412, 0.43137255, 0.44313725, 0.4745098 ,\n",
              "        0.43529412, 0.29803922, 0.49803922, 0.67843137, 0.68235294,\n",
              "        0.6745098 , 0.67843137, 0.68235294, 0.69019608, 0.6745098 ,\n",
              "        0.67058824, 0.65098039, 0.54117647, 0.58431373, 0.58823529,\n",
              "        0.49019608, 0.41568627, 0.34509804, 0.31764706, 0.30588235,\n",
              "        0.46666667, 0.43137255, 0.40784314, 0.42352941, 0.43529412,\n",
              "        0.43529412, 0.44313725, 0.47058824, 0.36862745, 0.37254902,\n",
              "        0.61568627, 0.68627451, 0.68235294, 0.67843137, 0.67058824,\n",
              "        0.67058824, 0.68627451, 0.67843137, 0.6627451 , 0.66666667,\n",
              "        0.58039216, 0.62352941, 0.58431373, 0.48627451, 0.36470588,\n",
              "        0.30980392, 0.30196078, 0.30980392, 0.40392157, 0.4       ,\n",
              "        0.41960784, 0.41568627, 0.42352941, 0.41960784, 0.44313725,\n",
              "        0.43137255, 0.42745098, 0.57647059, 0.61960784])]"
            ]
          },
          "metadata": {
            "tags": []
          },
          "execution_count": 119
        }
      ]
    },
    {
      "cell_type": "code",
      "metadata": {
        "id": "fnkq-VrlBUph",
        "colab": {
          "base_uri": "https://localhost:8080/"
        },
        "outputId": "31b03b16-4774-4640-989a-c3ab8089157e"
      },
      "source": [
        "s=\"\"\n",
        "for j in l:\n",
        "  X1 = j[:].reshape(1, *(28, 28, 1))\n",
        "  predicted_classes = cnn_model.predict_classes(X1)\n",
        "  k=predicted_classes[0]\n",
        "  s+=class_names[k]\n",
        "print(s)\n",
        "\n",
        "\n"
      ],
      "execution_count": null,
      "outputs": [
        {
          "output_type": "stream",
          "text": [
            "CAB\n"
          ],
          "name": "stdout"
        },
        {
          "output_type": "stream",
          "text": [
            "/usr/local/lib/python3.7/dist-packages/tensorflow/python/keras/engine/sequential.py:450: UserWarning: `model.predict_classes()` is deprecated and will be removed after 2021-01-01. Please use instead:* `np.argmax(model.predict(x), axis=-1)`,   if your model does multi-class classification   (e.g. if it uses a `softmax` last-layer activation).* `(model.predict(x) > 0.5).astype(\"int32\")`,   if your model does binary classification   (e.g. if it uses a `sigmoid` last-layer activation).\n",
            "  warnings.warn('`model.predict_classes()` is deprecated and '\n"
          ],
          "name": "stderr"
        }
      ]
    },
    {
      "cell_type": "code",
      "metadata": {
        "colab": {
          "base_uri": "https://localhost:8080/"
        },
        "id": "HTbuKbsZP4FE",
        "outputId": "1433f82d-9c6f-4a5a-f168-a42f49cbfdd0"
      },
      "source": [
        ""
      ],
      "execution_count": null,
      "outputs": [
        {
          "output_type": "stream",
          "text": [
            "/usr/local/lib/python3.7/dist-packages/tensorflow/python/keras/engine/sequential.py:450: UserWarning: `model.predict_classes()` is deprecated and will be removed after 2021-01-01. Please use instead:* `np.argmax(model.predict(x), axis=-1)`,   if your model does multi-class classification   (e.g. if it uses a `softmax` last-layer activation).* `(model.predict(x) > 0.5).astype(\"int32\")`,   if your model does binary classification   (e.g. if it uses a `sigmoid` last-layer activation).\n",
            "  warnings.warn('`model.predict_classes()` is deprecated and '\n"
          ],
          "name": "stderr"
        }
      ]
    },
    {
      "cell_type": "code",
      "metadata": {
        "id": "4aSJf0xABJfG",
        "colab": {
          "base_uri": "https://localhost:8080/"
        },
        "outputId": "a449bc3c-08ac-41cc-b084-7bd375156f5c"
      },
      "source": [
        "\n"
      ],
      "execution_count": null,
      "outputs": [
        {
          "output_type": "execute_result",
          "data": {
            "text/plain": [
              "array([2])"
            ]
          },
          "metadata": {
            "tags": []
          },
          "execution_count": 54
        }
      ]
    }
  ]
}